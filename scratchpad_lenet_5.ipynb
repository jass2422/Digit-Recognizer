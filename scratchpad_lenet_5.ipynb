{
  "nbformat": 4,
  "nbformat_minor": 0,
  "metadata": {
    "colab": {
      "provenance": [],
      "toc_visible": true,
      "include_colab_link": true
    },
    "kernelspec": {
      "name": "python3",
      "display_name": "Python 3"
    },
    "language_info": {
      "name": "python"
    }
  },
  "cells": [
    {
      "cell_type": "markdown",
      "metadata": {
        "id": "view-in-github",
        "colab_type": "text"
      },
      "source": [
        "<a href=\"https://colab.research.google.com/github/jass2422/Digit-Recognizer/blob/main/scratchpad_lenet_5.ipynb\" target=\"_parent\"><img src=\"https://colab.research.google.com/assets/colab-badge.svg\" alt=\"Open In Colab\"/></a>"
      ]
    },
    {
      "cell_type": "code",
      "execution_count": 2,
      "metadata": {
        "colab": {
          "base_uri": "https://localhost:8080/"
        },
        "id": "rmKyB4QgCsN9",
        "outputId": "123a8d8d-b4cc-4e4b-c7c1-7078b305a901"
      },
      "outputs": [
        {
          "output_type": "execute_result",
          "data": {
            "text/plain": [
              "tensor(1.)"
            ]
          },
          "metadata": {},
          "execution_count": 2
        }
      ],
      "source": [
        "import torch\n",
        "torch.tensor(1.0)"
      ]
    },
    {
      "cell_type": "code",
      "source": [
        "import torch"
      ],
      "metadata": {
        "id": "tv6B-VfuH_P8"
      },
      "execution_count": 6,
      "outputs": []
    },
    {
      "cell_type": "code",
      "source": [
        "x= torch.tensor(183.0 , requires_grad=False)\n",
        "x"
      ],
      "metadata": {
        "colab": {
          "base_uri": "https://localhost:8080/"
        },
        "id": "O0Ah-9VpJAmk",
        "outputId": "b89b4b5b-404b-487b-d3f9-755ab69e76d7"
      },
      "execution_count": 7,
      "outputs": [
        {
          "output_type": "execute_result",
          "data": {
            "text/plain": [
              "tensor(183.)"
            ]
          },
          "metadata": {},
          "execution_count": 7
        }
      ]
    },
    {
      "cell_type": "code",
      "source": [
        "w= torch.tensor(.780 , requires_grad= True)\n",
        "w"
      ],
      "metadata": {
        "colab": {
          "base_uri": "https://localhost:8080/"
        },
        "id": "7-36yBqFJWhD",
        "outputId": "14d84825-85d8-44ad-ff2d-3af23a0d7d91"
      },
      "execution_count": 11,
      "outputs": [
        {
          "output_type": "execute_result",
          "data": {
            "text/plain": [
              "tensor(0.7800, requires_grad=True)"
            ]
          },
          "metadata": {},
          "execution_count": 11
        }
      ]
    },
    {
      "cell_type": "code",
      "source": [
        "y_hat = w*x\n",
        "y_hat"
      ],
      "metadata": {
        "colab": {
          "base_uri": "https://localhost:8080/"
        },
        "id": "HMeW4l4oJo8c",
        "outputId": "989556bf-23d0-4203-8eb9-0a225c2cd2fd"
      },
      "execution_count": 12,
      "outputs": [
        {
          "output_type": "execute_result",
          "data": {
            "text/plain": [
              "tensor(142.7400, grad_fn=<MulBackward0>)"
            ]
          },
          "metadata": {},
          "execution_count": 12
        }
      ]
    },
    {
      "cell_type": "code",
      "source": [
        "y=40.8\n",
        "absolute_error = torch.abs(y-y_hat)\n",
        "absolute_error"
      ],
      "metadata": {
        "colab": {
          "base_uri": "https://localhost:8080/"
        },
        "id": "gQ1RVv31J44T",
        "outputId": "d0f148ba-b6ba-4b38-ba47-1eb26fe55c12"
      },
      "execution_count": 13,
      "outputs": [
        {
          "output_type": "execute_result",
          "data": {
            "text/plain": [
              "tensor(101.9400, grad_fn=<AbsBackward0>)"
            ]
          },
          "metadata": {},
          "execution_count": 13
        }
      ]
    },
    {
      "cell_type": "code",
      "source": [
        "absolute_error.backward()\n"
      ],
      "metadata": {
        "id": "bRQXe_G9KGVW"
      },
      "execution_count": 14,
      "outputs": []
    },
    {
      "cell_type": "code",
      "source": [
        "w.grad"
      ],
      "metadata": {
        "colab": {
          "base_uri": "https://localhost:8080/"
        },
        "id": "kPNaa5FfKPxz",
        "outputId": "4c32e90b-20c8-4e20-9a0c-0e5f5b940a86"
      },
      "execution_count": 15,
      "outputs": [
        {
          "output_type": "execute_result",
          "data": {
            "text/plain": [
              "tensor(183.)"
            ]
          },
          "metadata": {},
          "execution_count": 15
        }
      ]
    },
    {
      "cell_type": "code",
      "source": [
        "import torchvision"
      ],
      "metadata": {
        "id": "LCvdVLh-KR-w"
      },
      "execution_count": 16,
      "outputs": []
    },
    {
      "cell_type": "code",
      "source": [
        "raw_train_dataset = torchvision.datasets.MNIST(root='data', train=True, download=True)\n"
      ],
      "metadata": {
        "colab": {
          "base_uri": "https://localhost:8080/"
        },
        "id": "HxU3NGspKiPl",
        "outputId": "37f94dcd-6991-4469-b94a-61f91de3d5ce"
      },
      "execution_count": 18,
      "outputs": [
        {
          "output_type": "stream",
          "name": "stderr",
          "text": [
            "100%|██████████| 9.91M/9.91M [00:00<00:00, 17.4MB/s]\n",
            "100%|██████████| 28.9k/28.9k [00:00<00:00, 471kB/s]\n",
            "100%|██████████| 1.65M/1.65M [00:00<00:00, 4.39MB/s]\n",
            "100%|██████████| 4.54k/4.54k [00:00<00:00, 4.84MB/s]\n"
          ]
        }
      ]
    },
    {
      "cell_type": "code",
      "source": [
        "raw_train_dataset[0][0]"
      ],
      "metadata": {
        "colab": {
          "base_uri": "https://localhost:8080/",
          "height": 45
        },
        "id": "_aV1QwJXKxyo",
        "outputId": "7203fa12-3653-4a90-b7f7-6e07ce960d0f"
      },
      "execution_count": 20,
      "outputs": [
        {
          "output_type": "execute_result",
          "data": {
            "text/plain": [
              "<PIL.Image.Image image mode=L size=28x28>"
            ],
            "image/png": "[encoded data removed]",
            "image/jpeg": "[encoded data removed]"
          },
          "metadata": {},
          "execution_count": 20
        }
      ]
    },
    {
      "cell_type": "code",
      "source": [
        "raw_train_dataset.__getitem__(0)"
      ],
      "metadata": {
        "colab": {
          "base_uri": "https://localhost:8080/"
        },
        "id": "XOT9eEPYbjta",
        "outputId": "89d66798-fd5c-4c98-ba7f-7d0eed120710"
      },
      "execution_count": 57,
      "outputs": [
        {
          "output_type": "execute_result",
          "data": {
            "text/plain": [
              "(<PIL.Image.Image image mode=L size=28x28>, 5)"
            ]
          },
          "metadata": {},
          "execution_count": 57
        }
      ]
    },
    {
      "cell_type": "code",
      "source": [
        "raw_train_dataset[0]"
      ],
      "metadata": {
        "colab": {
          "base_uri": "https://localhost:8080/"
        },
        "id": "gh0UVZd7KqML",
        "outputId": "72bf0d5f-37a6-47e0-efe1-74e26e3a84ad"
      },
      "execution_count": 19,
      "outputs": [
        {
          "output_type": "execute_result",
          "data": {
            "text/plain": [
              "(<PIL.Image.Image image mode=L size=28x28>, 5)"
            ]
          },
          "metadata": {},
          "execution_count": 19
        }
      ]
    },
    {
      "cell_type": "code",
      "source": [
        "import matplotlib.pyplot as plt"
      ],
      "metadata": {
        "id": "3AXX1hufK1DA"
      },
      "execution_count": 21,
      "outputs": []
    },
    {
      "cell_type": "code",
      "source": [
        "plt.imshow(raw_train_dataset[0][0], cmap=\"gray\")\n",
        "plt.show()"
      ],
      "metadata": {
        "colab": {
          "base_uri": "https://localhost:8080/",
          "height": 430
        },
        "id": "41J4u1x_K56d",
        "outputId": "fc79018e-eda7-4bee-d729-76bd91bf0361"
      },
      "execution_count": 31,
      "outputs": [
        {
          "output_type": "display_data",
          "data": {
            "text/plain": [
              "<Figure size 640x480 with 1 Axes>"
            ],
            "image/png": "[encoded data removed]"
          },
          "metadata": {}
        }
      ]
    },
    {
      "cell_type": "code",
      "source": [
        "# Check if GPU is available\n",
        "import torch\n",
        "print(\"GPU Available: \", torch.cuda.is_available())\n",
        "print(\"GPU Type: \", torch.cuda.get_device_name(0) if torch.cuda.is_available() else \"No GPU\")"
      ],
      "metadata": {
        "colab": {
          "base_uri": "https://localhost:8080/"
        },
        "id": "P_2w6riBLAko",
        "outputId": "fd3cebe7-40ab-4d6b-a768-a844b3deb4c4"
      },
      "execution_count": 27,
      "outputs": [
        {
          "output_type": "stream",
          "name": "stdout",
          "text": [
            "GPU Available:  False\n",
            "GPU Type:  No GPU\n"
          ]
        }
      ]
    },
    {
      "cell_type": "code",
      "source": [
        "import numpy as np\n",
        "np.array(raw_train_dataset[0][0])"
      ],
      "metadata": {
        "colab": {
          "base_uri": "https://localhost:8080/",
          "height": 1000
        },
        "id": "XyKIJw2VOwqh",
        "outputId": "a3bf86f6-eb46-4fb0-956f-cc91a10d37f8"
      },
      "execution_count": 32,
      "outputs": [
        {
          "output_type": "execute_result",
          "data": {
            "text/plain": [
              "array([[  0,   0,   0,   0,   0,   0,   0,   0,   0,   0,   0,   0,   0,\n",
              "          0,   0,   0,   0,   0,   0,   0,   0,   0,   0,   0,   0,   0,\n",
              "          0,   0],\n",
              "       [  0,   0,   0,   0,   0,   0,   0,   0,   0,   0,   0,   0,   0,\n",
              "          0,   0,   0,   0,   0,   0,   0,   0,   0,   0,   0,   0,   0,\n",
              "          0,   0],\n",
              "       [  0,   0,   0,   0,   0,   0,   0,   0,   0,   0,   0,   0,   0,\n",
              "          0,   0,   0,   0,   0,   0,   0,   0,   0,   0,   0,   0,   0,\n",
              "          0,   0],\n",
              "       [  0,   0,   0,   0,   0,   0,   0,   0,   0,   0,   0,   0,   0,\n",
              "          0,   0,   0,   0,   0,   0,   0,   0,   0,   0,   0,   0,   0,\n",
              "          0,   0],\n",
              "       [  0,   0,   0,   0,   0,   0,   0,   0,   0,   0,   0,   0,   0,\n",
              "          0,   0,   0,   0,   0,   0,   0,   0,   0,   0,   0,   0,   0,\n",
              "          0,   0],\n",
              "       [  0,   0,   0,   0,   0,   0,   0,   0,   0,   0,   0,   0,   3,\n",
              "         18,  18,  18, 126, 136, 175,  26, 166, 255, 247, 127,   0,   0,\n",
              "          0,   0],\n",
              "       [  0,   0,   0,   0,   0,   0,   0,   0,  30,  36,  94, 154, 170,\n",
              "        253, 253, 253, 253, 253, 225, 172, 253, 242, 195,  64,   0,   0,\n",
              "          0,   0],\n",
              "       [  0,   0,   0,   0,   0,   0,   0,  49, 238, 253, 253, 253, 253,\n",
              "        253, 253, 253, 253, 251,  93,  82,  82,  56,  39,   0,   0,   0,\n",
              "          0,   0],\n",
              "       [  0,   0,   0,   0,   0,   0,   0,  18, 219, 253, 253, 253, 253,\n",
              "        253, 198, 182, 247, 241,   0,   0,   0,   0,   0,   0,   0,   0,\n",
              "          0,   0],\n",
              "       [  0,   0,   0,   0,   0,   0,   0,   0,  80, 156, 107, 253, 253,\n",
              "        205,  11,   0,  43, 154,   0,   0,   0,   0,   0,   0,   0,   0,\n",
              "          0,   0],\n",
              "       [  0,   0,   0,   0,   0,   0,   0,   0,   0,  14,   1, 154, 253,\n",
              "         90,   0,   0,   0,   0,   0,   0,   0,   0,   0,   0,   0,   0,\n",
              "          0,   0],\n",
              "       [  0,   0,   0,   0,   0,   0,   0,   0,   0,   0,   0, 139, 253,\n",
              "        190,   2,   0,   0,   0,   0,   0,   0,   0,   0,   0,   0,   0,\n",
              "          0,   0],\n",
              "       [  0,   0,   0,   0,   0,   0,   0,   0,   0,   0,   0,  11, 190,\n",
              "        253,  70,   0,   0,   0,   0,   0,   0,   0,   0,   0,   0,   0,\n",
              "          0,   0],\n",
              "       [  0,   0,   0,   0,   0,   0,   0,   0,   0,   0,   0,   0,  35,\n",
              "        241, 225, 160, 108,   1,   0,   0,   0,   0,   0,   0,   0,   0,\n",
              "          0,   0],\n",
              "       [  0,   0,   0,   0,   0,   0,   0,   0,   0,   0,   0,   0,   0,\n",
              "         81, 240, 253, 253, 119,  25,   0,   0,   0,   0,   0,   0,   0,\n",
              "          0,   0],\n",
              "       [  0,   0,   0,   0,   0,   0,   0,   0,   0,   0,   0,   0,   0,\n",
              "          0,  45, 186, 253, 253, 150,  27,   0,   0,   0,   0,   0,   0,\n",
              "          0,   0],\n",
              "       [  0,   0,   0,   0,   0,   0,   0,   0,   0,   0,   0,   0,   0,\n",
              "          0,   0,  16,  93, 252, 253, 187,   0,   0,   0,   0,   0,   0,\n",
              "          0,   0],\n",
              "       [  0,   0,   0,   0,   0,   0,   0,   0,   0,   0,   0,   0,   0,\n",
              "          0,   0,   0,   0, 249, 253, 249,  64,   0,   0,   0,   0,   0,\n",
              "          0,   0],\n",
              "       [  0,   0,   0,   0,   0,   0,   0,   0,   0,   0,   0,   0,   0,\n",
              "          0,  46, 130, 183, 253, 253, 207,   2,   0,   0,   0,   0,   0,\n",
              "          0,   0],\n",
              "       [  0,   0,   0,   0,   0,   0,   0,   0,   0,   0,   0,   0,  39,\n",
              "        148, 229, 253, 253, 253, 250, 182,   0,   0,   0,   0,   0,   0,\n",
              "          0,   0],\n",
              "       [  0,   0,   0,   0,   0,   0,   0,   0,   0,   0,  24, 114, 221,\n",
              "        253, 253, 253, 253, 201,  78,   0,   0,   0,   0,   0,   0,   0,\n",
              "          0,   0],\n",
              "       [  0,   0,   0,   0,   0,   0,   0,   0,  23,  66, 213, 253, 253,\n",
              "        253, 253, 198,  81,   2,   0,   0,   0,   0,   0,   0,   0,   0,\n",
              "          0,   0],\n",
              "       [  0,   0,   0,   0,   0,   0,  18, 171, 219, 253, 253, 253, 253,\n",
              "        195,  80,   9,   0,   0,   0,   0,   0,   0,   0,   0,   0,   0,\n",
              "          0,   0],\n",
              "       [  0,   0,   0,   0,  55, 172, 226, 253, 253, 253, 253, 244, 133,\n",
              "         11,   0,   0,   0,   0,   0,   0,   0,   0,   0,   0,   0,   0,\n",
              "          0,   0],\n",
              "       [  0,   0,   0,   0, 136, 253, 253, 253, 212, 135, 132,  16,   0,\n",
              "          0,   0,   0,   0,   0,   0,   0,   0,   0,   0,   0,   0,   0,\n",
              "          0,   0],\n",
              "       [  0,   0,   0,   0,   0,   0,   0,   0,   0,   0,   0,   0,   0,\n",
              "          0,   0,   0,   0,   0,   0,   0,   0,   0,   0,   0,   0,   0,\n",
              "          0,   0],\n",
              "       [  0,   0,   0,   0,   0,   0,   0,   0,   0,   0,   0,   0,   0,\n",
              "          0,   0,   0,   0,   0,   0,   0,   0,   0,   0,   0,   0,   0,\n",
              "          0,   0],\n",
              "       [  0,   0,   0,   0,   0,   0,   0,   0,   0,   0,   0,   0,   0,\n",
              "          0,   0,   0,   0,   0,   0,   0,   0,   0,   0,   0,   0,   0,\n",
              "          0,   0]], dtype=uint8)"
            ],
            "text/html": [
              "<style>\n",
              "      .ndarray_repr .ndarray_raw_data {\n",
              "        display: none;\n",
              "      }\n",
              "      .ndarray_repr.show_array .ndarray_raw_data {\n",
              "        display: block;\n",
              "      }\n",
              "      .ndarray_repr.show_array .ndarray_image_preview {\n",
              "        display: none;\n",
              "      }\n",
              "      </style>\n",
              "      <div id=\"id-775bbe0a-92a7-4f19-83c3-9dd52bb5e3a5\" class=\"ndarray_repr\"><pre>ndarray (28, 28) <button style=\"padding: 0 2px;\">show data</button></pre><img src=\"data:image/png;base64,iVBORw0KGgoAAAANSUhEUgAAABwAAAAcCAAAAABXZoBIAAABAElEQVR4nGNgGMyAWUhIqK5jvdSy/9/rGRgYGFhgEnJsVjYCwQwMDAxPJgV+vniQgYGBgREqZ7iXH8r6l/SV4dn7m8gmCt3++/fv37/Htn3/iMW+gDnZf/+e5WbQnoXNNXyMs/5GoQoxwVmf/n9kSGFiwAW49/11wynJoPzx4YIcRlyygR/+/i2XxCWru+vv32nSuGQFYv/83Y3b4p9/fzpAmSyoMnohpiwM1w5h06Q+5enfv39/bcMiJVF09+/fv39P+mFKiTtd/fv3799jgZiBJLT69t+/f/8eDuDEkDJf8+jv379/v7Ryo4qzMDAwMAQGMjBc3/y35wM2V1IfAABFF16Aa0wAOwAAAABJRU5ErkJggg==\" class=\"ndarray_image_preview\" /><pre class=\"ndarray_raw_data\">array([[  0,   0,   0,   0,   0,   0,   0,   0,   0,   0,   0,   0,   0,\n",
              "          0,   0,   0,   0,   0,   0,   0,   0,   0,   0,   0,   0,   0,\n",
              "          0,   0],\n",
              "       [  0,   0,   0,   0,   0,   0,   0,   0,   0,   0,   0,   0,   0,\n",
              "          0,   0,   0,   0,   0,   0,   0,   0,   0,   0,   0,   0,   0,\n",
              "          0,   0],\n",
              "       [  0,   0,   0,   0,   0,   0,   0,   0,   0,   0,   0,   0,   0,\n",
              "          0,   0,   0,   0,   0,   0,   0,   0,   0,   0,   0,   0,   0,\n",
              "          0,   0],\n",
              "       [  0,   0,   0,   0,   0,   0,   0,   0,   0,   0,   0,   0,   0,\n",
              "          0,   0,   0,   0,   0,   0,   0,   0,   0,   0,   0,   0,   0,\n",
              "          0,   0],\n",
              "       [  0,   0,   0,   0,   0,   0,   0,   0,   0,   0,   0,   0,   0,\n",
              "          0,   0,   0,   0,   0,   0,   0,   0,   0,   0,   0,   0,   0,\n",
              "          0,   0],\n",
              "       [  0,   0,   0,   0,   0,   0,   0,   0,   0,   0,   0,   0,   3,\n",
              "         18,  18,  18, 126, 136, 175,  26, 166, 255, 247, 127,   0,   0,\n",
              "          0,   0],\n",
              "       [  0,   0,   0,   0,   0,   0,   0,   0,  30,  36,  94, 154, 170,\n",
              "        253, 253, 253, 253, 253, 225, 172, 253, 242, 195,  64,   0,   0,\n",
              "          0,   0],\n",
              "       [  0,   0,   0,   0,   0,   0,   0,  49, 238, 253, 253, 253, 253,\n",
              "        253, 253, 253, 253, 251,  93,  82,  82,  56,  39,   0,   0,   0,\n",
              "          0,   0],\n",
              "       [  0,   0,   0,   0,   0,   0,   0,  18, 219, 253, 253, 253, 253,\n",
              "        253, 198, 182, 247, 241,   0,   0,   0,   0,   0,   0,   0,   0,\n",
              "          0,   0],\n",
              "       [  0,   0,   0,   0,   0,   0,   0,   0,  80, 156, 107, 253, 253,\n",
              "        205,  11,   0,  43, 154,   0,   0,   0,   0,   0,   0,   0,   0,\n",
              "          0,   0],\n",
              "       [  0,   0,   0,   0,   0,   0,   0,   0,   0,  14,   1, 154, 253,\n",
              "         90,   0,   0,   0,   0,   0,   0,   0,   0,   0,   0,   0,   0,\n",
              "          0,   0],\n",
              "       [  0,   0,   0,   0,   0,   0,   0,   0,   0,   0,   0, 139, 253,\n",
              "        190,   2,   0,   0,   0,   0,   0,   0,   0,   0,   0,   0,   0,\n",
              "          0,   0],\n",
              "       [  0,   0,   0,   0,   0,   0,   0,   0,   0,   0,   0,  11, 190,\n",
              "        253,  70,   0,   0,   0,   0,   0,   0,   0,   0,   0,   0,   0,\n",
              "          0,   0],\n",
              "       [  0,   0,   0,   0,   0,   0,   0,   0,   0,   0,   0,   0,  35,\n",
              "        241, 225, 160, 108,   1,   0,   0,   0,   0,   0,   0,   0,   0,\n",
              "          0,   0],\n",
              "       [  0,   0,   0,   0,   0,   0,   0,   0,   0,   0,   0,   0,   0,\n",
              "         81, 240, 253, 253, 119,  25,   0,   0,   0,   0,   0,   0,   0,\n",
              "          0,   0],\n",
              "       [  0,   0,   0,   0,   0,   0,   0,   0,   0,   0,   0,   0,   0,\n",
              "          0,  45, 186, 253, 253, 150,  27,   0,   0,   0,   0,   0,   0,\n",
              "          0,   0],\n",
              "       [  0,   0,   0,   0,   0,   0,   0,   0,   0,   0,   0,   0,   0,\n",
              "          0,   0,  16,  93, 252, 253, 187,   0,   0,   0,   0,   0,   0,\n",
              "          0,   0],\n",
              "       [  0,   0,   0,   0,   0,   0,   0,   0,   0,   0,   0,   0,   0,\n",
              "          0,   0,   0,   0, 249, 253, 249,  64,   0,   0,   0,   0,   0,\n",
              "          0,   0],\n",
              "       [  0,   0,   0,   0,   0,   0,   0,   0,   0,   0,   0,   0,   0,\n",
              "          0,  46, 130, 183, 253, 253, 207,   2,   0,   0,   0,   0,   0,\n",
              "          0,   0],\n",
              "       [  0,   0,   0,   0,   0,   0,   0,   0,   0,   0,   0,   0,  39,\n",
              "        148, 229, 253, 253, 253, 250, 182,   0,   0,   0,   0,   0,   0,\n",
              "          0,   0],\n",
              "       [  0,   0,   0,   0,   0,   0,   0,   0,   0,   0,  24, 114, 221,\n",
              "        253, 253, 253, 253, 201,  78,   0,   0,   0,   0,   0,   0,   0,\n",
              "          0,   0],\n",
              "       [  0,   0,   0,   0,   0,   0,   0,   0,  23,  66, 213, 253, 253,\n",
              "        253, 253, 198,  81,   2,   0,   0,   0,   0,   0,   0,   0,   0,\n",
              "          0,   0],\n",
              "       [  0,   0,   0,   0,   0,   0,  18, 171, 219, 253, 253, 253, 253,\n",
              "        195,  80,   9,   0,   0,   0,   0,   0,   0,   0,   0,   0,   0,\n",
              "          0,   0],\n",
              "       [  0,   0,   0,   0,  55, 172, 226, 253, 253, 253, 253, 244, 133,\n",
              "         11,   0,   0,   0,   0,   0,   0,   0,   0,   0,   0,   0,   0,\n",
              "          0,   0],\n",
              "       [  0,   0,   0,   0, 136, 253, 253, 253, 212, 135, 132,  16,   0,\n",
              "          0,   0,   0,   0,   0,   0,   0,   0,   0,   0,   0,   0,   0,\n",
              "          0,   0],\n",
              "       [  0,   0,   0,   0,   0,   0,   0,   0,   0,   0,   0,   0,   0,\n",
              "          0,   0,   0,   0,   0,   0,   0,   0,   0,   0,   0,   0,   0,\n",
              "          0,   0],\n",
              "       [  0,   0,   0,   0,   0,   0,   0,   0,   0,   0,   0,   0,   0,\n",
              "          0,   0,   0,   0,   0,   0,   0,   0,   0,   0,   0,   0,   0,\n",
              "          0,   0],\n",
              "       [  0,   0,   0,   0,   0,   0,   0,   0,   0,   0,   0,   0,   0,\n",
              "          0,   0,   0,   0,   0,   0,   0,   0,   0,   0,   0,   0,   0,\n",
              "          0,   0]], dtype=uint8)</pre></div><script>\n",
              "      (() => {\n",
              "      const titles = ['show data', 'hide data'];\n",
              "      let index = 0\n",
              "      document.querySelector('#id-775bbe0a-92a7-4f19-83c3-9dd52bb5e3a5 button').onclick = (e) => {\n",
              "        document.querySelector('#id-775bbe0a-92a7-4f19-83c3-9dd52bb5e3a5').classList.toggle('show_array');\n",
              "        index = (++index) % 2;\n",
              "        document.querySelector('#id-775bbe0a-92a7-4f19-83c3-9dd52bb5e3a5 button').textContent = titles[index];\n",
              "        e.preventDefault();\n",
              "        e.stopPropagation();\n",
              "      }\n",
              "      })();\n",
              "    </script>"
            ]
          },
          "metadata": {},
          "execution_count": 32
        }
      ]
    },
    {
      "cell_type": "code",
      "source": [
        "np.exp(np.array(raw_train_dataset[0][0]))"
      ],
      "metadata": {
        "colab": {
          "base_uri": "https://localhost:8080/"
        },
        "id": "J5QRaRzRPwbc",
        "outputId": "f1ccb156-42ad-4eb0-e1ad-6885424ad35b"
      },
      "execution_count": 33,
      "outputs": [
        {
          "output_type": "stream",
          "name": "stderr",
          "text": [
            "<ipython-input-33-8c680ee878fe>:1: RuntimeWarning: overflow encountered in exp\n",
            "  np.exp(np.array(raw_train_dataset[0][0]))\n"
          ]
        },
        {
          "output_type": "execute_result",
          "data": {
            "text/plain": [
              "array([[1.000e+00, 1.000e+00, 1.000e+00, 1.000e+00, 1.000e+00, 1.000e+00,\n",
              "        1.000e+00, 1.000e+00, 1.000e+00, 1.000e+00, 1.000e+00, 1.000e+00,\n",
              "        1.000e+00, 1.000e+00, 1.000e+00, 1.000e+00, 1.000e+00, 1.000e+00,\n",
              "        1.000e+00, 1.000e+00, 1.000e+00, 1.000e+00, 1.000e+00, 1.000e+00,\n",
              "        1.000e+00, 1.000e+00, 1.000e+00, 1.000e+00],\n",
              "       [1.000e+00, 1.000e+00, 1.000e+00, 1.000e+00, 1.000e+00, 1.000e+00,\n",
              "        1.000e+00, 1.000e+00, 1.000e+00, 1.000e+00, 1.000e+00, 1.000e+00,\n",
              "        1.000e+00, 1.000e+00, 1.000e+00, 1.000e+00, 1.000e+00, 1.000e+00,\n",
              "        1.000e+00, 1.000e+00, 1.000e+00, 1.000e+00, 1.000e+00, 1.000e+00,\n",
              "        1.000e+00, 1.000e+00, 1.000e+00, 1.000e+00],\n",
              "       [1.000e+00, 1.000e+00, 1.000e+00, 1.000e+00, 1.000e+00, 1.000e+00,\n",
              "        1.000e+00, 1.000e+00, 1.000e+00, 1.000e+00, 1.000e+00, 1.000e+00,\n",
              "        1.000e+00, 1.000e+00, 1.000e+00, 1.000e+00, 1.000e+00, 1.000e+00,\n",
              "        1.000e+00, 1.000e+00, 1.000e+00, 1.000e+00, 1.000e+00, 1.000e+00,\n",
              "        1.000e+00, 1.000e+00, 1.000e+00, 1.000e+00],\n",
              "       [1.000e+00, 1.000e+00, 1.000e+00, 1.000e+00, 1.000e+00, 1.000e+00,\n",
              "        1.000e+00, 1.000e+00, 1.000e+00, 1.000e+00, 1.000e+00, 1.000e+00,\n",
              "        1.000e+00, 1.000e+00, 1.000e+00, 1.000e+00, 1.000e+00, 1.000e+00,\n",
              "        1.000e+00, 1.000e+00, 1.000e+00, 1.000e+00, 1.000e+00, 1.000e+00,\n",
              "        1.000e+00, 1.000e+00, 1.000e+00, 1.000e+00],\n",
              "       [1.000e+00, 1.000e+00, 1.000e+00, 1.000e+00, 1.000e+00, 1.000e+00,\n",
              "        1.000e+00, 1.000e+00, 1.000e+00, 1.000e+00, 1.000e+00, 1.000e+00,\n",
              "        1.000e+00, 1.000e+00, 1.000e+00, 1.000e+00, 1.000e+00, 1.000e+00,\n",
              "        1.000e+00, 1.000e+00, 1.000e+00, 1.000e+00, 1.000e+00, 1.000e+00,\n",
              "        1.000e+00, 1.000e+00, 1.000e+00, 1.000e+00],\n",
              "       [1.000e+00, 1.000e+00, 1.000e+00, 1.000e+00, 1.000e+00, 1.000e+00,\n",
              "        1.000e+00, 1.000e+00, 1.000e+00, 1.000e+00, 1.000e+00, 1.000e+00,\n",
              "        2.008e+01,       inf,       inf,       inf,       inf,       inf,\n",
              "              inf,       inf,       inf,       inf,       inf,       inf,\n",
              "        1.000e+00, 1.000e+00, 1.000e+00, 1.000e+00],\n",
              "       [1.000e+00, 1.000e+00, 1.000e+00, 1.000e+00, 1.000e+00, 1.000e+00,\n",
              "        1.000e+00, 1.000e+00,       inf,       inf,       inf,       inf,\n",
              "              inf,       inf,       inf,       inf,       inf,       inf,\n",
              "              inf,       inf,       inf,       inf,       inf,       inf,\n",
              "        1.000e+00, 1.000e+00, 1.000e+00, 1.000e+00],\n",
              "       [1.000e+00, 1.000e+00, 1.000e+00, 1.000e+00, 1.000e+00, 1.000e+00,\n",
              "        1.000e+00,       inf,       inf,       inf,       inf,       inf,\n",
              "              inf,       inf,       inf,       inf,       inf,       inf,\n",
              "              inf,       inf,       inf,       inf,       inf, 1.000e+00,\n",
              "        1.000e+00, 1.000e+00, 1.000e+00, 1.000e+00],\n",
              "       [1.000e+00, 1.000e+00, 1.000e+00, 1.000e+00, 1.000e+00, 1.000e+00,\n",
              "        1.000e+00,       inf,       inf,       inf,       inf,       inf,\n",
              "              inf,       inf,       inf,       inf,       inf,       inf,\n",
              "        1.000e+00, 1.000e+00, 1.000e+00, 1.000e+00, 1.000e+00, 1.000e+00,\n",
              "        1.000e+00, 1.000e+00, 1.000e+00, 1.000e+00],\n",
              "       [1.000e+00, 1.000e+00, 1.000e+00, 1.000e+00, 1.000e+00, 1.000e+00,\n",
              "        1.000e+00, 1.000e+00,       inf,       inf,       inf,       inf,\n",
              "              inf,       inf, 5.987e+04, 1.000e+00,       inf,       inf,\n",
              "        1.000e+00, 1.000e+00, 1.000e+00, 1.000e+00, 1.000e+00, 1.000e+00,\n",
              "        1.000e+00, 1.000e+00, 1.000e+00, 1.000e+00],\n",
              "       [1.000e+00, 1.000e+00, 1.000e+00, 1.000e+00, 1.000e+00, 1.000e+00,\n",
              "        1.000e+00, 1.000e+00, 1.000e+00,       inf, 2.719e+00,       inf,\n",
              "              inf,       inf, 1.000e+00, 1.000e+00, 1.000e+00, 1.000e+00,\n",
              "        1.000e+00, 1.000e+00, 1.000e+00, 1.000e+00, 1.000e+00, 1.000e+00,\n",
              "        1.000e+00, 1.000e+00, 1.000e+00, 1.000e+00],\n",
              "       [1.000e+00, 1.000e+00, 1.000e+00, 1.000e+00, 1.000e+00, 1.000e+00,\n",
              "        1.000e+00, 1.000e+00, 1.000e+00, 1.000e+00, 1.000e+00,       inf,\n",
              "              inf,       inf, 7.391e+00, 1.000e+00, 1.000e+00, 1.000e+00,\n",
              "        1.000e+00, 1.000e+00, 1.000e+00, 1.000e+00, 1.000e+00, 1.000e+00,\n",
              "        1.000e+00, 1.000e+00, 1.000e+00, 1.000e+00],\n",
              "       [1.000e+00, 1.000e+00, 1.000e+00, 1.000e+00, 1.000e+00, 1.000e+00,\n",
              "        1.000e+00, 1.000e+00, 1.000e+00, 1.000e+00, 1.000e+00, 5.987e+04,\n",
              "              inf,       inf,       inf, 1.000e+00, 1.000e+00, 1.000e+00,\n",
              "        1.000e+00, 1.000e+00, 1.000e+00, 1.000e+00, 1.000e+00, 1.000e+00,\n",
              "        1.000e+00, 1.000e+00, 1.000e+00, 1.000e+00],\n",
              "       [1.000e+00, 1.000e+00, 1.000e+00, 1.000e+00, 1.000e+00, 1.000e+00,\n",
              "        1.000e+00, 1.000e+00, 1.000e+00, 1.000e+00, 1.000e+00, 1.000e+00,\n",
              "              inf,       inf,       inf,       inf,       inf, 2.719e+00,\n",
              "        1.000e+00, 1.000e+00, 1.000e+00, 1.000e+00, 1.000e+00, 1.000e+00,\n",
              "        1.000e+00, 1.000e+00, 1.000e+00, 1.000e+00],\n",
              "       [1.000e+00, 1.000e+00, 1.000e+00, 1.000e+00, 1.000e+00, 1.000e+00,\n",
              "        1.000e+00, 1.000e+00, 1.000e+00, 1.000e+00, 1.000e+00, 1.000e+00,\n",
              "        1.000e+00,       inf,       inf,       inf,       inf,       inf,\n",
              "              inf, 1.000e+00, 1.000e+00, 1.000e+00, 1.000e+00, 1.000e+00,\n",
              "        1.000e+00, 1.000e+00, 1.000e+00, 1.000e+00],\n",
              "       [1.000e+00, 1.000e+00, 1.000e+00, 1.000e+00, 1.000e+00, 1.000e+00,\n",
              "        1.000e+00, 1.000e+00, 1.000e+00, 1.000e+00, 1.000e+00, 1.000e+00,\n",
              "        1.000e+00, 1.000e+00,       inf,       inf,       inf,       inf,\n",
              "              inf,       inf, 1.000e+00, 1.000e+00, 1.000e+00, 1.000e+00,\n",
              "        1.000e+00, 1.000e+00, 1.000e+00, 1.000e+00],\n",
              "       [1.000e+00, 1.000e+00, 1.000e+00, 1.000e+00, 1.000e+00, 1.000e+00,\n",
              "        1.000e+00, 1.000e+00, 1.000e+00, 1.000e+00, 1.000e+00, 1.000e+00,\n",
              "        1.000e+00, 1.000e+00, 1.000e+00,       inf,       inf,       inf,\n",
              "              inf,       inf, 1.000e+00, 1.000e+00, 1.000e+00, 1.000e+00,\n",
              "        1.000e+00, 1.000e+00, 1.000e+00, 1.000e+00],\n",
              "       [1.000e+00, 1.000e+00, 1.000e+00, 1.000e+00, 1.000e+00, 1.000e+00,\n",
              "        1.000e+00, 1.000e+00, 1.000e+00, 1.000e+00, 1.000e+00, 1.000e+00,\n",
              "        1.000e+00, 1.000e+00, 1.000e+00, 1.000e+00, 1.000e+00,       inf,\n",
              "              inf,       inf,       inf, 1.000e+00, 1.000e+00, 1.000e+00,\n",
              "        1.000e+00, 1.000e+00, 1.000e+00, 1.000e+00],\n",
              "       [1.000e+00, 1.000e+00, 1.000e+00, 1.000e+00, 1.000e+00, 1.000e+00,\n",
              "        1.000e+00, 1.000e+00, 1.000e+00, 1.000e+00, 1.000e+00, 1.000e+00,\n",
              "        1.000e+00, 1.000e+00,       inf,       inf,       inf,       inf,\n",
              "              inf,       inf, 7.391e+00, 1.000e+00, 1.000e+00, 1.000e+00,\n",
              "        1.000e+00, 1.000e+00, 1.000e+00, 1.000e+00],\n",
              "       [1.000e+00, 1.000e+00, 1.000e+00, 1.000e+00, 1.000e+00, 1.000e+00,\n",
              "        1.000e+00, 1.000e+00, 1.000e+00, 1.000e+00, 1.000e+00, 1.000e+00,\n",
              "              inf,       inf,       inf,       inf,       inf,       inf,\n",
              "              inf,       inf, 1.000e+00, 1.000e+00, 1.000e+00, 1.000e+00,\n",
              "        1.000e+00, 1.000e+00, 1.000e+00, 1.000e+00],\n",
              "       [1.000e+00, 1.000e+00, 1.000e+00, 1.000e+00, 1.000e+00, 1.000e+00,\n",
              "        1.000e+00, 1.000e+00, 1.000e+00, 1.000e+00,       inf,       inf,\n",
              "              inf,       inf,       inf,       inf,       inf,       inf,\n",
              "              inf, 1.000e+00, 1.000e+00, 1.000e+00, 1.000e+00, 1.000e+00,\n",
              "        1.000e+00, 1.000e+00, 1.000e+00, 1.000e+00],\n",
              "       [1.000e+00, 1.000e+00, 1.000e+00, 1.000e+00, 1.000e+00, 1.000e+00,\n",
              "        1.000e+00, 1.000e+00,       inf,       inf,       inf,       inf,\n",
              "              inf,       inf,       inf,       inf,       inf, 7.391e+00,\n",
              "        1.000e+00, 1.000e+00, 1.000e+00, 1.000e+00, 1.000e+00, 1.000e+00,\n",
              "        1.000e+00, 1.000e+00, 1.000e+00, 1.000e+00],\n",
              "       [1.000e+00, 1.000e+00, 1.000e+00, 1.000e+00, 1.000e+00, 1.000e+00,\n",
              "              inf,       inf,       inf,       inf,       inf,       inf,\n",
              "              inf,       inf,       inf, 8.104e+03, 1.000e+00, 1.000e+00,\n",
              "        1.000e+00, 1.000e+00, 1.000e+00, 1.000e+00, 1.000e+00, 1.000e+00,\n",
              "        1.000e+00, 1.000e+00, 1.000e+00, 1.000e+00],\n",
              "       [1.000e+00, 1.000e+00, 1.000e+00, 1.000e+00,       inf,       inf,\n",
              "              inf,       inf,       inf,       inf,       inf,       inf,\n",
              "              inf, 5.987e+04, 1.000e+00, 1.000e+00, 1.000e+00, 1.000e+00,\n",
              "        1.000e+00, 1.000e+00, 1.000e+00, 1.000e+00, 1.000e+00, 1.000e+00,\n",
              "        1.000e+00, 1.000e+00, 1.000e+00, 1.000e+00],\n",
              "       [1.000e+00, 1.000e+00, 1.000e+00, 1.000e+00,       inf,       inf,\n",
              "              inf,       inf,       inf,       inf,       inf,       inf,\n",
              "        1.000e+00, 1.000e+00, 1.000e+00, 1.000e+00, 1.000e+00, 1.000e+00,\n",
              "        1.000e+00, 1.000e+00, 1.000e+00, 1.000e+00, 1.000e+00, 1.000e+00,\n",
              "        1.000e+00, 1.000e+00, 1.000e+00, 1.000e+00],\n",
              "       [1.000e+00, 1.000e+00, 1.000e+00, 1.000e+00, 1.000e+00, 1.000e+00,\n",
              "        1.000e+00, 1.000e+00, 1.000e+00, 1.000e+00, 1.000e+00, 1.000e+00,\n",
              "        1.000e+00, 1.000e+00, 1.000e+00, 1.000e+00, 1.000e+00, 1.000e+00,\n",
              "        1.000e+00, 1.000e+00, 1.000e+00, 1.000e+00, 1.000e+00, 1.000e+00,\n",
              "        1.000e+00, 1.000e+00, 1.000e+00, 1.000e+00],\n",
              "       [1.000e+00, 1.000e+00, 1.000e+00, 1.000e+00, 1.000e+00, 1.000e+00,\n",
              "        1.000e+00, 1.000e+00, 1.000e+00, 1.000e+00, 1.000e+00, 1.000e+00,\n",
              "        1.000e+00, 1.000e+00, 1.000e+00, 1.000e+00, 1.000e+00, 1.000e+00,\n",
              "        1.000e+00, 1.000e+00, 1.000e+00, 1.000e+00, 1.000e+00, 1.000e+00,\n",
              "        1.000e+00, 1.000e+00, 1.000e+00, 1.000e+00],\n",
              "       [1.000e+00, 1.000e+00, 1.000e+00, 1.000e+00, 1.000e+00, 1.000e+00,\n",
              "        1.000e+00, 1.000e+00, 1.000e+00, 1.000e+00, 1.000e+00, 1.000e+00,\n",
              "        1.000e+00, 1.000e+00, 1.000e+00, 1.000e+00, 1.000e+00, 1.000e+00,\n",
              "        1.000e+00, 1.000e+00, 1.000e+00, 1.000e+00, 1.000e+00, 1.000e+00,\n",
              "        1.000e+00, 1.000e+00, 1.000e+00, 1.000e+00]], dtype=float16)"
            ]
          },
          "metadata": {},
          "execution_count": 33
        }
      ]
    },
    {
      "cell_type": "code",
      "source": [
        "np.exp(np.array(raw_train_dataset[0][0]))/255.0"
      ],
      "metadata": {
        "colab": {
          "base_uri": "https://localhost:8080/"
        },
        "id": "M7dwcD3UP4Co",
        "outputId": "67eac0af-c372-4bc6-f915-16c46d4c89a5"
      },
      "execution_count": 104,
      "outputs": [
        {
          "output_type": "stream",
          "name": "stderr",
          "text": [
            "<ipython-input-104-dca9bbf07c4f>:1: RuntimeWarning: overflow encountered in exp\n",
            "  np.exp(np.array(raw_train_dataset[0][0]))/255.0\n"
          ]
        },
        {
          "output_type": "execute_result",
          "data": {
            "text/plain": [
              "array([[3.922e-03, 3.922e-03, 3.922e-03, 3.922e-03, 3.922e-03, 3.922e-03,\n",
              "        3.922e-03, 3.922e-03, 3.922e-03, 3.922e-03, 3.922e-03, 3.922e-03,\n",
              "        3.922e-03, 3.922e-03, 3.922e-03, 3.922e-03, 3.922e-03, 3.922e-03,\n",
              "        3.922e-03, 3.922e-03, 3.922e-03, 3.922e-03, 3.922e-03, 3.922e-03,\n",
              "        3.922e-03, 3.922e-03, 3.922e-03, 3.922e-03],\n",
              "       [3.922e-03, 3.922e-03, 3.922e-03, 3.922e-03, 3.922e-03, 3.922e-03,\n",
              "        3.922e-03, 3.922e-03, 3.922e-03, 3.922e-03, 3.922e-03, 3.922e-03,\n",
              "        3.922e-03, 3.922e-03, 3.922e-03, 3.922e-03, 3.922e-03, 3.922e-03,\n",
              "        3.922e-03, 3.922e-03, 3.922e-03, 3.922e-03, 3.922e-03, 3.922e-03,\n",
              "        3.922e-03, 3.922e-03, 3.922e-03, 3.922e-03],\n",
              "       [3.922e-03, 3.922e-03, 3.922e-03, 3.922e-03, 3.922e-03, 3.922e-03,\n",
              "        3.922e-03, 3.922e-03, 3.922e-03, 3.922e-03, 3.922e-03, 3.922e-03,\n",
              "        3.922e-03, 3.922e-03, 3.922e-03, 3.922e-03, 3.922e-03, 3.922e-03,\n",
              "        3.922e-03, 3.922e-03, 3.922e-03, 3.922e-03, 3.922e-03, 3.922e-03,\n",
              "        3.922e-03, 3.922e-03, 3.922e-03, 3.922e-03],\n",
              "       [3.922e-03, 3.922e-03, 3.922e-03, 3.922e-03, 3.922e-03, 3.922e-03,\n",
              "        3.922e-03, 3.922e-03, 3.922e-03, 3.922e-03, 3.922e-03, 3.922e-03,\n",
              "        3.922e-03, 3.922e-03, 3.922e-03, 3.922e-03, 3.922e-03, 3.922e-03,\n",
              "        3.922e-03, 3.922e-03, 3.922e-03, 3.922e-03, 3.922e-03, 3.922e-03,\n",
              "        3.922e-03, 3.922e-03, 3.922e-03, 3.922e-03],\n",
              "       [3.922e-03, 3.922e-03, 3.922e-03, 3.922e-03, 3.922e-03, 3.922e-03,\n",
              "        3.922e-03, 3.922e-03, 3.922e-03, 3.922e-03, 3.922e-03, 3.922e-03,\n",
              "        3.922e-03, 3.922e-03, 3.922e-03, 3.922e-03, 3.922e-03, 3.922e-03,\n",
              "        3.922e-03, 3.922e-03, 3.922e-03, 3.922e-03, 3.922e-03, 3.922e-03,\n",
              "        3.922e-03, 3.922e-03, 3.922e-03, 3.922e-03],\n",
              "       [3.922e-03, 3.922e-03, 3.922e-03, 3.922e-03, 3.922e-03, 3.922e-03,\n",
              "        3.922e-03, 3.922e-03, 3.922e-03, 3.922e-03, 3.922e-03, 3.922e-03,\n",
              "        7.874e-02,       inf,       inf,       inf,       inf,       inf,\n",
              "              inf,       inf,       inf,       inf,       inf,       inf,\n",
              "        3.922e-03, 3.922e-03, 3.922e-03, 3.922e-03],\n",
              "       [3.922e-03, 3.922e-03, 3.922e-03, 3.922e-03, 3.922e-03, 3.922e-03,\n",
              "        3.922e-03, 3.922e-03,       inf,       inf,       inf,       inf,\n",
              "              inf,       inf,       inf,       inf,       inf,       inf,\n",
              "              inf,       inf,       inf,       inf,       inf,       inf,\n",
              "        3.922e-03, 3.922e-03, 3.922e-03, 3.922e-03],\n",
              "       [3.922e-03, 3.922e-03, 3.922e-03, 3.922e-03, 3.922e-03, 3.922e-03,\n",
              "        3.922e-03,       inf,       inf,       inf,       inf,       inf,\n",
              "              inf,       inf,       inf,       inf,       inf,       inf,\n",
              "              inf,       inf,       inf,       inf,       inf, 3.922e-03,\n",
              "        3.922e-03, 3.922e-03, 3.922e-03, 3.922e-03],\n",
              "       [3.922e-03, 3.922e-03, 3.922e-03, 3.922e-03, 3.922e-03, 3.922e-03,\n",
              "        3.922e-03,       inf,       inf,       inf,       inf,       inf,\n",
              "              inf,       inf,       inf,       inf,       inf,       inf,\n",
              "        3.922e-03, 3.922e-03, 3.922e-03, 3.922e-03, 3.922e-03, 3.922e-03,\n",
              "        3.922e-03, 3.922e-03, 3.922e-03, 3.922e-03],\n",
              "       [3.922e-03, 3.922e-03, 3.922e-03, 3.922e-03, 3.922e-03, 3.922e-03,\n",
              "        3.922e-03, 3.922e-03,       inf,       inf,       inf,       inf,\n",
              "              inf,       inf, 2.348e+02, 3.922e-03,       inf,       inf,\n",
              "        3.922e-03, 3.922e-03, 3.922e-03, 3.922e-03, 3.922e-03, 3.922e-03,\n",
              "        3.922e-03, 3.922e-03, 3.922e-03, 3.922e-03],\n",
              "       [3.922e-03, 3.922e-03, 3.922e-03, 3.922e-03, 3.922e-03, 3.922e-03,\n",
              "        3.922e-03, 3.922e-03, 3.922e-03,       inf, 1.066e-02,       inf,\n",
              "              inf,       inf, 3.922e-03, 3.922e-03, 3.922e-03, 3.922e-03,\n",
              "        3.922e-03, 3.922e-03, 3.922e-03, 3.922e-03, 3.922e-03, 3.922e-03,\n",
              "        3.922e-03, 3.922e-03, 3.922e-03, 3.922e-03],\n",
              "       [3.922e-03, 3.922e-03, 3.922e-03, 3.922e-03, 3.922e-03, 3.922e-03,\n",
              "        3.922e-03, 3.922e-03, 3.922e-03, 3.922e-03, 3.922e-03,       inf,\n",
              "              inf,       inf, 2.898e-02, 3.922e-03, 3.922e-03, 3.922e-03,\n",
              "        3.922e-03, 3.922e-03, 3.922e-03, 3.922e-03, 3.922e-03, 3.922e-03,\n",
              "        3.922e-03, 3.922e-03, 3.922e-03, 3.922e-03],\n",
              "       [3.922e-03, 3.922e-03, 3.922e-03, 3.922e-03, 3.922e-03, 3.922e-03,\n",
              "        3.922e-03, 3.922e-03, 3.922e-03, 3.922e-03, 3.922e-03, 2.348e+02,\n",
              "              inf,       inf,       inf, 3.922e-03, 3.922e-03, 3.922e-03,\n",
              "        3.922e-03, 3.922e-03, 3.922e-03, 3.922e-03, 3.922e-03, 3.922e-03,\n",
              "        3.922e-03, 3.922e-03, 3.922e-03, 3.922e-03],\n",
              "       [3.922e-03, 3.922e-03, 3.922e-03, 3.922e-03, 3.922e-03, 3.922e-03,\n",
              "        3.922e-03, 3.922e-03, 3.922e-03, 3.922e-03, 3.922e-03, 3.922e-03,\n",
              "              inf,       inf,       inf,       inf,       inf, 1.066e-02,\n",
              "        3.922e-03, 3.922e-03, 3.922e-03, 3.922e-03, 3.922e-03, 3.922e-03,\n",
              "        3.922e-03, 3.922e-03, 3.922e-03, 3.922e-03],\n",
              "       [3.922e-03, 3.922e-03, 3.922e-03, 3.922e-03, 3.922e-03, 3.922e-03,\n",
              "        3.922e-03, 3.922e-03, 3.922e-03, 3.922e-03, 3.922e-03, 3.922e-03,\n",
              "        3.922e-03,       inf,       inf,       inf,       inf,       inf,\n",
              "              inf, 3.922e-03, 3.922e-03, 3.922e-03, 3.922e-03, 3.922e-03,\n",
              "        3.922e-03, 3.922e-03, 3.922e-03, 3.922e-03],\n",
              "       [3.922e-03, 3.922e-03, 3.922e-03, 3.922e-03, 3.922e-03, 3.922e-03,\n",
              "        3.922e-03, 3.922e-03, 3.922e-03, 3.922e-03, 3.922e-03, 3.922e-03,\n",
              "        3.922e-03, 3.922e-03,       inf,       inf,       inf,       inf,\n",
              "              inf,       inf, 3.922e-03, 3.922e-03, 3.922e-03, 3.922e-03,\n",
              "        3.922e-03, 3.922e-03, 3.922e-03, 3.922e-03],\n",
              "       [3.922e-03, 3.922e-03, 3.922e-03, 3.922e-03, 3.922e-03, 3.922e-03,\n",
              "        3.922e-03, 3.922e-03, 3.922e-03, 3.922e-03, 3.922e-03, 3.922e-03,\n",
              "        3.922e-03, 3.922e-03, 3.922e-03,       inf,       inf,       inf,\n",
              "              inf,       inf, 3.922e-03, 3.922e-03, 3.922e-03, 3.922e-03,\n",
              "        3.922e-03, 3.922e-03, 3.922e-03, 3.922e-03],\n",
              "       [3.922e-03, 3.922e-03, 3.922e-03, 3.922e-03, 3.922e-03, 3.922e-03,\n",
              "        3.922e-03, 3.922e-03, 3.922e-03, 3.922e-03, 3.922e-03, 3.922e-03,\n",
              "        3.922e-03, 3.922e-03, 3.922e-03, 3.922e-03, 3.922e-03,       inf,\n",
              "              inf,       inf,       inf, 3.922e-03, 3.922e-03, 3.922e-03,\n",
              "        3.922e-03, 3.922e-03, 3.922e-03, 3.922e-03],\n",
              "       [3.922e-03, 3.922e-03, 3.922e-03, 3.922e-03, 3.922e-03, 3.922e-03,\n",
              "        3.922e-03, 3.922e-03, 3.922e-03, 3.922e-03, 3.922e-03, 3.922e-03,\n",
              "        3.922e-03, 3.922e-03,       inf,       inf,       inf,       inf,\n",
              "              inf,       inf, 2.898e-02, 3.922e-03, 3.922e-03, 3.922e-03,\n",
              "        3.922e-03, 3.922e-03, 3.922e-03, 3.922e-03],\n",
              "       [3.922e-03, 3.922e-03, 3.922e-03, 3.922e-03, 3.922e-03, 3.922e-03,\n",
              "        3.922e-03, 3.922e-03, 3.922e-03, 3.922e-03, 3.922e-03, 3.922e-03,\n",
              "              inf,       inf,       inf,       inf,       inf,       inf,\n",
              "              inf,       inf, 3.922e-03, 3.922e-03, 3.922e-03, 3.922e-03,\n",
              "        3.922e-03, 3.922e-03, 3.922e-03, 3.922e-03],\n",
              "       [3.922e-03, 3.922e-03, 3.922e-03, 3.922e-03, 3.922e-03, 3.922e-03,\n",
              "        3.922e-03, 3.922e-03, 3.922e-03, 3.922e-03,       inf,       inf,\n",
              "              inf,       inf,       inf,       inf,       inf,       inf,\n",
              "              inf, 3.922e-03, 3.922e-03, 3.922e-03, 3.922e-03, 3.922e-03,\n",
              "        3.922e-03, 3.922e-03, 3.922e-03, 3.922e-03],\n",
              "       [3.922e-03, 3.922e-03, 3.922e-03, 3.922e-03, 3.922e-03, 3.922e-03,\n",
              "        3.922e-03, 3.922e-03,       inf,       inf,       inf,       inf,\n",
              "              inf,       inf,       inf,       inf,       inf, 2.898e-02,\n",
              "        3.922e-03, 3.922e-03, 3.922e-03, 3.922e-03, 3.922e-03, 3.922e-03,\n",
              "        3.922e-03, 3.922e-03, 3.922e-03, 3.922e-03],\n",
              "       [3.922e-03, 3.922e-03, 3.922e-03, 3.922e-03, 3.922e-03, 3.922e-03,\n",
              "              inf,       inf,       inf,       inf,       inf,       inf,\n",
              "              inf,       inf,       inf, 3.178e+01, 3.922e-03, 3.922e-03,\n",
              "        3.922e-03, 3.922e-03, 3.922e-03, 3.922e-03, 3.922e-03, 3.922e-03,\n",
              "        3.922e-03, 3.922e-03, 3.922e-03, 3.922e-03],\n",
              "       [3.922e-03, 3.922e-03, 3.922e-03, 3.922e-03,       inf,       inf,\n",
              "              inf,       inf,       inf,       inf,       inf,       inf,\n",
              "              inf, 2.348e+02, 3.922e-03, 3.922e-03, 3.922e-03, 3.922e-03,\n",
              "        3.922e-03, 3.922e-03, 3.922e-03, 3.922e-03, 3.922e-03, 3.922e-03,\n",
              "        3.922e-03, 3.922e-03, 3.922e-03, 3.922e-03],\n",
              "       [3.922e-03, 3.922e-03, 3.922e-03, 3.922e-03,       inf,       inf,\n",
              "              inf,       inf,       inf,       inf,       inf,       inf,\n",
              "        3.922e-03, 3.922e-03, 3.922e-03, 3.922e-03, 3.922e-03, 3.922e-03,\n",
              "        3.922e-03, 3.922e-03, 3.922e-03, 3.922e-03, 3.922e-03, 3.922e-03,\n",
              "        3.922e-03, 3.922e-03, 3.922e-03, 3.922e-03],\n",
              "       [3.922e-03, 3.922e-03, 3.922e-03, 3.922e-03, 3.922e-03, 3.922e-03,\n",
              "        3.922e-03, 3.922e-03, 3.922e-03, 3.922e-03, 3.922e-03, 3.922e-03,\n",
              "        3.922e-03, 3.922e-03, 3.922e-03, 3.922e-03, 3.922e-03, 3.922e-03,\n",
              "        3.922e-03, 3.922e-03, 3.922e-03, 3.922e-03, 3.922e-03, 3.922e-03,\n",
              "        3.922e-03, 3.922e-03, 3.922e-03, 3.922e-03],\n",
              "       [3.922e-03, 3.922e-03, 3.922e-03, 3.922e-03, 3.922e-03, 3.922e-03,\n",
              "        3.922e-03, 3.922e-03, 3.922e-03, 3.922e-03, 3.922e-03, 3.922e-03,\n",
              "        3.922e-03, 3.922e-03, 3.922e-03, 3.922e-03, 3.922e-03, 3.922e-03,\n",
              "        3.922e-03, 3.922e-03, 3.922e-03, 3.922e-03, 3.922e-03, 3.922e-03,\n",
              "        3.922e-03, 3.922e-03, 3.922e-03, 3.922e-03],\n",
              "       [3.922e-03, 3.922e-03, 3.922e-03, 3.922e-03, 3.922e-03, 3.922e-03,\n",
              "        3.922e-03, 3.922e-03, 3.922e-03, 3.922e-03, 3.922e-03, 3.922e-03,\n",
              "        3.922e-03, 3.922e-03, 3.922e-03, 3.922e-03, 3.922e-03, 3.922e-03,\n",
              "        3.922e-03, 3.922e-03, 3.922e-03, 3.922e-03, 3.922e-03, 3.922e-03,\n",
              "        3.922e-03, 3.922e-03, 3.922e-03, 3.922e-03]], dtype=float16)"
            ]
          },
          "metadata": {},
          "execution_count": 104
        }
      ]
    },
    {
      "cell_type": "code",
      "source": [
        "import pandas as pd\n",
        "df = pd.read_csv('https://raw.githubusercontent.com/jass2422/Digit-Recognizer/refs/heads/main/first_five_mnist.csv', index_col=\"Unnamed: 0\")\n",
        "df"
      ],
      "metadata": {
        "colab": {
          "base_uri": "https://localhost:8080/",
          "height": 255
        },
        "id": "gYhoai1AQGhI",
        "outputId": "48b48182-49be-4b50-c5ae-be879115aec3"
      },
      "execution_count": 84,
      "outputs": [
        {
          "output_type": "execute_result",
          "data": {
            "text/plain": [
              "   label  pixel0  pixel1  pixel2  pixel3  pixel4  pixel5  pixel6  pixel7  \\\n",
              "0      1       0       0       0       0       0       0       0       0   \n",
              "1      0       0       0       0       0       0       0       0       0   \n",
              "2      1       0       0       0       0       0       0       0       0   \n",
              "3      4       0       0       0       0       0       0       0       0   \n",
              "4      0       0       0       0       0       0       0       0       0   \n",
              "\n",
              "   pixel8  ...  pixel774  pixel775  pixel776  pixel777  pixel778  pixel779  \\\n",
              "0       0  ...         0         0         0         0         0         0   \n",
              "1       0  ...         0         0         0         0         0         0   \n",
              "2       0  ...         0         0         0         0         0         0   \n",
              "3       0  ...         0         0         0         0         0         0   \n",
              "4       0  ...         0         0         0         0         0         0   \n",
              "\n",
              "   pixel780  pixel781  pixel782  pixel783  \n",
              "0         0         0         0         0  \n",
              "1         0         0         0         0  \n",
              "2         0         0         0         0  \n",
              "3         0         0         0         0  \n",
              "4         0         0         0         0  \n",
              "\n",
              "[5 rows x 785 columns]"
            ],
            "text/html": [
              "\n",
              "  <div id=\"df-f8c48a65-c243-4db8-931a-4bcbc7bf4a5b\" class=\"colab-df-container\">\n",
              "    <div>\n",
              "<style scoped>\n",
              "    .dataframe tbody tr th:only-of-type {\n",
              "        vertical-align: middle;\n",
              "    }\n",
              "\n",
              "    .dataframe tbody tr th {\n",
              "        vertical-align: top;\n",
              "    }\n",
              "\n",
              "    .dataframe thead th {\n",
              "        text-align: right;\n",
              "    }\n",
              "</style>\n",
              "<table border=\"1\" class=\"dataframe\">\n",
              "  <thead>\n",
              "    <tr style=\"text-align: right;\">\n",
              "      <th></th>\n",
              "      <th>label</th>\n",
              "      <th>pixel0</th>\n",
              "      <th>pixel1</th>\n",
              "      <th>pixel2</th>\n",
              "      <th>pixel3</th>\n",
              "      <th>pixel4</th>\n",
              "      <th>pixel5</th>\n",
              "      <th>pixel6</th>\n",
              "      <th>pixel7</th>\n",
              "      <th>pixel8</th>\n",
              "      <th>...</th>\n",
              "      <th>pixel774</th>\n",
              "      <th>pixel775</th>\n",
              "      <th>pixel776</th>\n",
              "      <th>pixel777</th>\n",
              "      <th>pixel778</th>\n",
              "      <th>pixel779</th>\n",
              "      <th>pixel780</th>\n",
              "      <th>pixel781</th>\n",
              "      <th>pixel782</th>\n",
              "      <th>pixel783</th>\n",
              "    </tr>\n",
              "  </thead>\n",
              "  <tbody>\n",
              "    <tr>\n",
              "      <th>0</th>\n",
              "      <td>1</td>\n",
              "      <td>0</td>\n",
              "      <td>0</td>\n",
              "      <td>0</td>\n",
              "      <td>0</td>\n",
              "      <td>0</td>\n",
              "      <td>0</td>\n",
              "      <td>0</td>\n",
              "      <td>0</td>\n",
              "      <td>0</td>\n",
              "      <td>...</td>\n",
              "      <td>0</td>\n",
              "      <td>0</td>\n",
              "      <td>0</td>\n",
              "      <td>0</td>\n",
              "      <td>0</td>\n",
              "      <td>0</td>\n",
              "      <td>0</td>\n",
              "      <td>0</td>\n",
              "      <td>0</td>\n",
              "      <td>0</td>\n",
              "    </tr>\n",
              "    <tr>\n",
              "      <th>1</th>\n",
              "      <td>0</td>\n",
              "      <td>0</td>\n",
              "      <td>0</td>\n",
              "      <td>0</td>\n",
              "      <td>0</td>\n",
              "      <td>0</td>\n",
              "      <td>0</td>\n",
              "      <td>0</td>\n",
              "      <td>0</td>\n",
              "      <td>0</td>\n",
              "      <td>...</td>\n",
              "      <td>0</td>\n",
              "      <td>0</td>\n",
              "      <td>0</td>\n",
              "      <td>0</td>\n",
              "      <td>0</td>\n",
              "      <td>0</td>\n",
              "      <td>0</td>\n",
              "      <td>0</td>\n",
              "      <td>0</td>\n",
              "      <td>0</td>\n",
              "    </tr>\n",
              "    <tr>\n",
              "      <th>2</th>\n",
              "      <td>1</td>\n",
              "      <td>0</td>\n",
              "      <td>0</td>\n",
              "      <td>0</td>\n",
              "      <td>0</td>\n",
              "      <td>0</td>\n",
              "      <td>0</td>\n",
              "      <td>0</td>\n",
              "      <td>0</td>\n",
              "      <td>0</td>\n",
              "      <td>...</td>\n",
              "      <td>0</td>\n",
              "      <td>0</td>\n",
              "      <td>0</td>\n",
              "      <td>0</td>\n",
              "      <td>0</td>\n",
              "      <td>0</td>\n",
              "      <td>0</td>\n",
              "      <td>0</td>\n",
              "      <td>0</td>\n",
              "      <td>0</td>\n",
              "    </tr>\n",
              "    <tr>\n",
              "      <th>3</th>\n",
              "      <td>4</td>\n",
              "      <td>0</td>\n",
              "      <td>0</td>\n",
              "      <td>0</td>\n",
              "      <td>0</td>\n",
              "      <td>0</td>\n",
              "      <td>0</td>\n",
              "      <td>0</td>\n",
              "      <td>0</td>\n",
              "      <td>0</td>\n",
              "      <td>...</td>\n",
              "      <td>0</td>\n",
              "      <td>0</td>\n",
              "      <td>0</td>\n",
              "      <td>0</td>\n",
              "      <td>0</td>\n",
              "      <td>0</td>\n",
              "      <td>0</td>\n",
              "      <td>0</td>\n",
              "      <td>0</td>\n",
              "      <td>0</td>\n",
              "    </tr>\n",
              "    <tr>\n",
              "      <th>4</th>\n",
              "      <td>0</td>\n",
              "      <td>0</td>\n",
              "      <td>0</td>\n",
              "      <td>0</td>\n",
              "      <td>0</td>\n",
              "      <td>0</td>\n",
              "      <td>0</td>\n",
              "      <td>0</td>\n",
              "      <td>0</td>\n",
              "      <td>0</td>\n",
              "      <td>...</td>\n",
              "      <td>0</td>\n",
              "      <td>0</td>\n",
              "      <td>0</td>\n",
              "      <td>0</td>\n",
              "      <td>0</td>\n",
              "      <td>0</td>\n",
              "      <td>0</td>\n",
              "      <td>0</td>\n",
              "      <td>0</td>\n",
              "      <td>0</td>\n",
              "    </tr>\n",
              "  </tbody>\n",
              "</table>\n",
              "<p>5 rows × 785 columns</p>\n",
              "</div>\n",
              "    <div class=\"colab-df-buttons\">\n",
              "\n",
              "  <div class=\"colab-df-container\">\n",
              "    <button class=\"colab-df-convert\" onclick=\"convertToInteractive('df-f8c48a65-c243-4db8-931a-4bcbc7bf4a5b')\"\n",
              "            title=\"Convert this dataframe to an interactive table.\"\n",
              "            style=\"display:none;\">\n",
              "\n",
              "  <svg xmlns=\"http://www.w3.org/2000/svg\" height=\"24px\" viewBox=\"0 -960 960 960\">\n",
              "    <path d=\"M120-120v-720h720v720H120Zm60-500h600v-160H180v160Zm220 220h160v-160H400v160Zm0 220h160v-160H400v160ZM180-400h160v-160H180v160Zm440 0h160v-160H620v160ZM180-180h160v-160H180v160Zm440 0h160v-160H620v160Z\"/>\n",
              "  </svg>\n",
              "    </button>\n",
              "\n",
              "  <style>\n",
              "    .colab-df-container {\n",
              "      display:flex;\n",
              "      gap: 12px;\n",
              "    }\n",
              "\n",
              "    .colab-df-convert {\n",
              "      background-color: #E8F0FE;\n",
              "      border: none;\n",
              "      border-radius: 50%;\n",
              "      cursor: pointer;\n",
              "      display: none;\n",
              "      fill: #1967D2;\n",
              "      height: 32px;\n",
              "      padding: 0 0 0 0;\n",
              "      width: 32px;\n",
              "    }\n",
              "\n",
              "    .colab-df-convert:hover {\n",
              "      background-color: #E2EBFA;\n",
              "      box-shadow: 0px 1px 2px rgba(60, 64, 67, 0.3), 0px 1px 3px 1px rgba(60, 64, 67, 0.15);\n",
              "      fill: #174EA6;\n",
              "    }\n",
              "\n",
              "    .colab-df-buttons div {\n",
              "      margin-bottom: 4px;\n",
              "    }\n",
              "\n",
              "    [theme=dark] .colab-df-convert {\n",
              "      background-color: #3B4455;\n",
              "      fill: #D2E3FC;\n",
              "    }\n",
              "\n",
              "    [theme=dark] .colab-df-convert:hover {\n",
              "      background-color: #434B5C;\n",
              "      box-shadow: 0px 1px 3px 1px rgba(0, 0, 0, 0.15);\n",
              "      filter: drop-shadow(0px 1px 2px rgba(0, 0, 0, 0.3));\n",
              "      fill: #FFFFFF;\n",
              "    }\n",
              "  </style>\n",
              "\n",
              "    <script>\n",
              "      const buttonEl =\n",
              "        document.querySelector('#df-f8c48a65-c243-4db8-931a-4bcbc7bf4a5b button.colab-df-convert');\n",
              "      buttonEl.style.display =\n",
              "        google.colab.kernel.accessAllowed ? 'block' : 'none';\n",
              "\n",
              "      async function convertToInteractive(key) {\n",
              "        const element = document.querySelector('#df-f8c48a65-c243-4db8-931a-4bcbc7bf4a5b');\n",
              "        const dataTable =\n",
              "          await google.colab.kernel.invokeFunction('convertToInteractive',\n",
              "                                                    [key], {});\n",
              "        if (!dataTable) return;\n",
              "\n",
              "        const docLinkHtml = 'Like what you see? Visit the ' +\n",
              "          '<a target=\"_blank\" href=https://colab.research.google.com/notebooks/data_table.ipynb>data table notebook</a>'\n",
              "          + ' to learn more about interactive tables.';\n",
              "        element.innerHTML = '';\n",
              "        dataTable['output_type'] = 'display_data';\n",
              "        await google.colab.output.renderOutput(dataTable, element);\n",
              "        const docLink = document.createElement('div');\n",
              "        docLink.innerHTML = docLinkHtml;\n",
              "        element.appendChild(docLink);\n",
              "      }\n",
              "    </script>\n",
              "  </div>\n",
              "\n",
              "\n",
              "<div id=\"df-aecb77e7-9c07-423a-98e5-a91503797b7a\">\n",
              "  <button class=\"colab-df-quickchart\" onclick=\"quickchart('df-aecb77e7-9c07-423a-98e5-a91503797b7a')\"\n",
              "            title=\"Suggest charts\"\n",
              "            style=\"display:none;\">\n",
              "\n",
              "<svg xmlns=\"http://www.w3.org/2000/svg\" height=\"24px\"viewBox=\"0 0 24 24\"\n",
              "     width=\"24px\">\n",
              "    <g>\n",
              "        <path d=\"M19 3H5c-1.1 0-2 .9-2 2v14c0 1.1.9 2 2 2h14c1.1 0 2-.9 2-2V5c0-1.1-.9-2-2-2zM9 17H7v-7h2v7zm4 0h-2V7h2v10zm4 0h-2v-4h2v4z\"/>\n",
              "    </g>\n",
              "</svg>\n",
              "  </button>\n",
              "\n",
              "<style>\n",
              "  .colab-df-quickchart {\n",
              "      --bg-color: #E8F0FE;\n",
              "      --fill-color: #1967D2;\n",
              "      --hover-bg-color: #E2EBFA;\n",
              "      --hover-fill-color: #174EA6;\n",
              "      --disabled-fill-color: #AAA;\n",
              "      --disabled-bg-color: #DDD;\n",
              "  }\n",
              "\n",
              "  [theme=dark] .colab-df-quickchart {\n",
              "      --bg-color: #3B4455;\n",
              "      --fill-color: #D2E3FC;\n",
              "      --hover-bg-color: #434B5C;\n",
              "      --hover-fill-color: #FFFFFF;\n",
              "      --disabled-bg-color: #3B4455;\n",
              "      --disabled-fill-color: #666;\n",
              "  }\n",
              "\n",
              "  .colab-df-quickchart {\n",
              "    background-color: var(--bg-color);\n",
              "    border: none;\n",
              "    border-radius: 50%;\n",
              "    cursor: pointer;\n",
              "    display: none;\n",
              "    fill: var(--fill-color);\n",
              "    height: 32px;\n",
              "    padding: 0;\n",
              "    width: 32px;\n",
              "  }\n",
              "\n",
              "  .colab-df-quickchart:hover {\n",
              "    background-color: var(--hover-bg-color);\n",
              "    box-shadow: 0 1px 2px rgba(60, 64, 67, 0.3), 0 1px 3px 1px rgba(60, 64, 67, 0.15);\n",
              "    fill: var(--button-hover-fill-color);\n",
              "  }\n",
              "\n",
              "  .colab-df-quickchart-complete:disabled,\n",
              "  .colab-df-quickchart-complete:disabled:hover {\n",
              "    background-color: var(--disabled-bg-color);\n",
              "    fill: var(--disabled-fill-color);\n",
              "    box-shadow: none;\n",
              "  }\n",
              "\n",
              "  .colab-df-spinner {\n",
              "    border: 2px solid var(--fill-color);\n",
              "    border-color: transparent;\n",
              "    border-bottom-color: var(--fill-color);\n",
              "    animation:\n",
              "      spin 1s steps(1) infinite;\n",
              "  }\n",
              "\n",
              "  @keyframes spin {\n",
              "    0% {\n",
              "      border-color: transparent;\n",
              "      border-bottom-color: var(--fill-color);\n",
              "      border-left-color: var(--fill-color);\n",
              "    }\n",
              "    20% {\n",
              "      border-color: transparent;\n",
              "      border-left-color: var(--fill-color);\n",
              "      border-top-color: var(--fill-color);\n",
              "    }\n",
              "    30% {\n",
              "      border-color: transparent;\n",
              "      border-left-color: var(--fill-color);\n",
              "      border-top-color: var(--fill-color);\n",
              "      border-right-color: var(--fill-color);\n",
              "    }\n",
              "    40% {\n",
              "      border-color: transparent;\n",
              "      border-right-color: var(--fill-color);\n",
              "      border-top-color: var(--fill-color);\n",
              "    }\n",
              "    60% {\n",
              "      border-color: transparent;\n",
              "      border-right-color: var(--fill-color);\n",
              "    }\n",
              "    80% {\n",
              "      border-color: transparent;\n",
              "      border-right-color: var(--fill-color);\n",
              "      border-bottom-color: var(--fill-color);\n",
              "    }\n",
              "    90% {\n",
              "      border-color: transparent;\n",
              "      border-bottom-color: var(--fill-color);\n",
              "    }\n",
              "  }\n",
              "</style>\n",
              "\n",
              "  <script>\n",
              "    async function quickchart(key) {\n",
              "      const quickchartButtonEl =\n",
              "        document.querySelector('#' + key + ' button');\n",
              "      quickchartButtonEl.disabled = true;  // To prevent multiple clicks.\n",
              "      quickchartButtonEl.classList.add('colab-df-spinner');\n",
              "      try {\n",
              "        const charts = await google.colab.kernel.invokeFunction(\n",
              "            'suggestCharts', [key], {});\n",
              "      } catch (error) {\n",
              "        console.error('Error during call to suggestCharts:', error);\n",
              "      }\n",
              "      quickchartButtonEl.classList.remove('colab-df-spinner');\n",
              "      quickchartButtonEl.classList.add('colab-df-quickchart-complete');\n",
              "    }\n",
              "    (() => {\n",
              "      let quickchartButtonEl =\n",
              "        document.querySelector('#df-aecb77e7-9c07-423a-98e5-a91503797b7a button');\n",
              "      quickchartButtonEl.style.display =\n",
              "        google.colab.kernel.accessAllowed ? 'block' : 'none';\n",
              "    })();\n",
              "  </script>\n",
              "</div>\n",
              "\n",
              "  <div id=\"id_cdc092c0-c161-4a8a-8eb5-710fd497efc4\">\n",
              "    <style>\n",
              "      .colab-df-generate {\n",
              "        background-color: #E8F0FE;\n",
              "        border: none;\n",
              "        border-radius: 50%;\n",
              "        cursor: pointer;\n",
              "        display: none;\n",
              "        fill: #1967D2;\n",
              "        height: 32px;\n",
              "        padding: 0 0 0 0;\n",
              "        width: 32px;\n",
              "      }\n",
              "\n",
              "      .colab-df-generate:hover {\n",
              "        background-color: #E2EBFA;\n",
              "        box-shadow: 0px 1px 2px rgba(60, 64, 67, 0.3), 0px 1px 3px 1px rgba(60, 64, 67, 0.15);\n",
              "        fill: #174EA6;\n",
              "      }\n",
              "\n",
              "      [theme=dark] .colab-df-generate {\n",
              "        background-color: #3B4455;\n",
              "        fill: #D2E3FC;\n",
              "      }\n",
              "\n",
              "      [theme=dark] .colab-df-generate:hover {\n",
              "        background-color: #434B5C;\n",
              "        box-shadow: 0px 1px 3px 1px rgba(0, 0, 0, 0.15);\n",
              "        filter: drop-shadow(0px 1px 2px rgba(0, 0, 0, 0.3));\n",
              "        fill: #FFFFFF;\n",
              "      }\n",
              "    </style>\n",
              "    <button class=\"colab-df-generate\" onclick=\"generateWithVariable('df')\"\n",
              "            title=\"Generate code using this dataframe.\"\n",
              "            style=\"display:none;\">\n",
              "\n",
              "  <svg xmlns=\"http://www.w3.org/2000/svg\" height=\"24px\"viewBox=\"0 0 24 24\"\n",
              "       width=\"24px\">\n",
              "    <path d=\"M7,19H8.4L18.45,9,17,7.55,7,17.6ZM5,21V16.75L18.45,3.32a2,2,0,0,1,2.83,0l1.4,1.43a1.91,1.91,0,0,1,.58,1.4,1.91,1.91,0,0,1-.58,1.4L9.25,21ZM18.45,9,17,7.55Zm-12,3A5.31,5.31,0,0,0,4.9,8.1,5.31,5.31,0,0,0,1,6.5,5.31,5.31,0,0,0,4.9,4.9,5.31,5.31,0,0,0,6.5,1,5.31,5.31,0,0,0,8.1,4.9,5.31,5.31,0,0,0,12,6.5,5.46,5.46,0,0,0,6.5,12Z\"/>\n",
              "  </svg>\n",
              "    </button>\n",
              "    <script>\n",
              "      (() => {\n",
              "      const buttonEl =\n",
              "        document.querySelector('#id_cdc092c0-c161-4a8a-8eb5-710fd497efc4 button.colab-df-generate');\n",
              "      buttonEl.style.display =\n",
              "        google.colab.kernel.accessAllowed ? 'block' : 'none';\n",
              "\n",
              "      buttonEl.onclick = () => {\n",
              "        google.colab.notebook.generateWithVariable('df');\n",
              "      }\n",
              "      })();\n",
              "    </script>\n",
              "  </div>\n",
              "\n",
              "    </div>\n",
              "  </div>\n"
            ],
            "application/vnd.google.colaboratory.intrinsic+json": {
              "type": "dataframe",
              "variable_name": "df"
            }
          },
          "metadata": {},
          "execution_count": 84
        }
      ]
    },
    {
      "cell_type": "code",
      "source": [
        "class MNISTDataset(torch.utils.data.Dataset):\n",
        "    def __init__(self, data, labels=True, transform=None):\n",
        "        # Use the 'data' argument instead of 'dataframe'\n",
        "        self.data = data\n",
        "        self.labels = labels\n",
        "        self.transform = transform\n",
        "\n",
        "    def __len__(self):\n",
        "        return len(self.data)\n",
        "\n",
        "    def __getitem__(self, idx):\n",
        "        if self.labels:\n",
        "            # Select elements from index 1 to 785 (exclusive) to get 784 values\n",
        "            image = self.data.iloc[idx, 1:].values.astype(np.float32)[:784].reshape(28, 28)\n",
        "            label = self.data.iloc[idx, 0]\n",
        "\n",
        "        else:\n",
        "            image = self.data.iloc[idx, 1:].values.astype(np.float32).reshape(28, 28)\n",
        "            label = None  # Or assign a default value\n",
        "\n",
        "        if self.transform is not None:  # Correct the typo here: transforms -> transform\n",
        "            image = self.transform(image)\n",
        "        return image, label"
      ],
      "metadata": {
        "id": "zJN007i5RYQV"
      },
      "execution_count": 85,
      "outputs": []
    },
    {
      "cell_type": "code",
      "source": [
        "len(df)"
      ],
      "metadata": {
        "colab": {
          "base_uri": "https://localhost:8080/"
        },
        "id": "kNIfWtOMYuAH",
        "outputId": "144cf55f-cd69-4ddd-bd10-dd01344f9c43"
      },
      "execution_count": 86,
      "outputs": [
        {
          "output_type": "execute_result",
          "data": {
            "text/plain": [
              "5"
            ]
          },
          "metadata": {},
          "execution_count": 86
        }
      ]
    },
    {
      "cell_type": "code",
      "source": [
        "df.iloc[0,0]"
      ],
      "metadata": {
        "colab": {
          "base_uri": "https://localhost:8080/"
        },
        "id": "iXtZWie7ZTdi",
        "outputId": "a08a1e8c-4387-4eb0-e73c-40c27cad06f8"
      },
      "execution_count": 87,
      "outputs": [
        {
          "output_type": "execute_result",
          "data": {
            "text/plain": [
              "np.int64(1)"
            ]
          },
          "metadata": {},
          "execution_count": 87
        }
      ]
    },
    {
      "cell_type": "code",
      "source": [
        "plt.imshow(df.iloc[0, 1:].values.reshape(28, 28), cmap=\"gray\");\n",
        "plt.show()"
      ],
      "metadata": {
        "colab": {
          "base_uri": "https://localhost:8080/",
          "height": 430
        },
        "id": "q76WgYgxZ8WS",
        "outputId": "8ad2deb5-45fa-427b-fd6a-643dedb4c745"
      },
      "execution_count": 97,
      "outputs": [
        {
          "output_type": "display_data",
          "data": {
            "text/plain": [
              "<Figure size 640x480 with 1 Axes>"
            ],
            "image/png": "[encoded data removed]"
          },
          "metadata": {}
        }
      ]
    },
    {
      "cell_type": "code",
      "source": [],
      "metadata": {
        "id": "SnvMxJgnkPrW"
      },
      "execution_count": 98,
      "outputs": []
    },
    {
      "cell_type": "code",
      "source": [
        "df.iloc[0, 1:].values.astype(np.float32);"
      ],
      "metadata": {
        "id": "gcZRRABeb7oH"
      },
      "execution_count": 99,
      "outputs": []
    },
    {
      "cell_type": "code",
      "source": [
        "import  torchvision.transforms.v2 as transforms\n",
        "import torchvision.transforms.v2 as transforms\n",
        "import torch\n",
        "\n",
        "transform = transforms.Compose([\n",
        "    transforms.ToImage(), transforms.ToDtype(torch.float32), transforms.Resize(size=256)\n",
        "])"
      ],
      "metadata": {
        "id": "iqnUH6PQdW-w"
      },
      "execution_count": 100,
      "outputs": []
    },
    {
      "cell_type": "code",
      "source": [
        "np_array = df.iloc[0, 1:].values.reshape(28, 28)  # Select first 784 elements to reshape\n",
        "np_array.shape"
      ],
      "metadata": {
        "colab": {
          "base_uri": "https://localhost:8080/"
        },
        "id": "tgEmDRgFeGNf",
        "outputId": "2c914a1f-e48f-4b5d-cf63-607d73f00dab"
      },
      "execution_count": 101,
      "outputs": [
        {
          "output_type": "execute_result",
          "data": {
            "text/plain": [
              "(28, 28)"
            ]
          },
          "metadata": {},
          "execution_count": 101
        }
      ]
    },
    {
      "cell_type": "code",
      "source": [
        "sample_mnist_dataset = MNISTDataset(df , labels = True , transform = transform)\n",
        "first_image , first_lable = sample_mnist_dataset[0]\n",
        "first_image.shape , first_lable"
      ],
      "metadata": {
        "colab": {
          "base_uri": "https://localhost:8080/"
        },
        "id": "p3T31UlZewMt",
        "outputId": "c2a8fef4-4467-4c77-f8a1-897d73d54f79"
      },
      "execution_count": 102,
      "outputs": [
        {
          "output_type": "execute_result",
          "data": {
            "text/plain": [
              "(torch.Size([1, 256, 256]), np.int64(1))"
            ]
          },
          "metadata": {},
          "execution_count": 102
        }
      ]
    },
    {
      "cell_type": "code",
      "source": [
        "plt.imshow(first_image.squeeze(), cmap=\"gray\");\n",
        "plt.show()"
      ],
      "metadata": {
        "colab": {
          "base_uri": "https://localhost:8080/",
          "height": 435
        },
        "id": "ht7yvdH7iWQB",
        "outputId": "dccd4229-cc0c-42de-bba2-a0e3d17351ed"
      },
      "execution_count": 103,
      "outputs": [
        {
          "output_type": "display_data",
          "data": {
            "text/plain": [
              "<Figure size 640x480 with 1 Axes>"
            ],
            "image/png": "[encoded data removed]"
          },
          "metadata": {}
        }
      ]
    },
    {
      "cell_type": "code",
      "source": [],
      "metadata": {
        "id": "ZLke47Wli7lf"
      },
      "execution_count": null,
      "outputs": []
    }
  ]
}